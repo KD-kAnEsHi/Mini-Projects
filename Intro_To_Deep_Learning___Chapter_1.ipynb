{
  "nbformat": 4,
  "nbformat_minor": 0,
  "metadata": {
    "colab": {
      "provenance": [],
      "gpuType": "T4",
      "authorship_tag": "ABX9TyOSjaennQSAMMzCzUnt+6xJ",
      "include_colab_link": true
    },
    "kernelspec": {
      "name": "python3",
      "display_name": "Python 3"
    },
    "language_info": {
      "name": "python"
    },
    "accelerator": "GPU"
  },
  "cells": [
    {
      "cell_type": "markdown",
      "metadata": {
        "id": "view-in-github",
        "colab_type": "text"
      },
      "source": [
        "<a href=\"https://colab.research.google.com/github/KD-kAnEsHi/Mini-Projects/blob/main/Intro_To_Deep_Learning___Chapter_1.ipynb\" target=\"_parent\"><img src=\"https://colab.research.google.com/assets/colab-badge.svg\" alt=\"Open In Colab\"/></a>"
      ]
    },
    {
      "cell_type": "code",
      "execution_count": 2,
      "metadata": {
        "colab": {
          "base_uri": "https://localhost:8080/",
          "height": 35
        },
        "id": "jfdgQ-x_HDJC",
        "outputId": "137db0c0-bfca-4322-b5ac-cc474f2c0e2d"
      },
      "outputs": [
        {
          "output_type": "execute_result",
          "data": {
            "text/plain": [
              "'2.6.0+cu124'"
            ],
            "application/vnd.google.colaboratory.intrinsic+json": {
              "type": "string"
            }
          },
          "metadata": {},
          "execution_count": 2
        }
      ],
      "source": [
        "import torch\n",
        "import numpy as np\n",
        "torch.__version__"
      ]
    },
    {
      "cell_type": "code",
      "source": [
        "scalar = torch.tensor(7)\n",
        "scalar"
      ],
      "metadata": {
        "colab": {
          "base_uri": "https://localhost:8080/"
        },
        "id": "8zRBIvYwOZT0",
        "outputId": "8889196a-2639-442a-ea84-3e90ebf29d6a"
      },
      "execution_count": null,
      "outputs": [
        {
          "output_type": "execute_result",
          "data": {
            "text/plain": [
              "tensor(7)"
            ]
          },
          "metadata": {},
          "execution_count": 4
        }
      ]
    },
    {
      "cell_type": "code",
      "source": [
        "scalar.ndim"
      ],
      "metadata": {
        "colab": {
          "base_uri": "https://localhost:8080/"
        },
        "id": "_Kti7U3LOpI0",
        "outputId": "83934b8a-c405-4a7f-9e6a-683f56694a4c"
      },
      "execution_count": null,
      "outputs": [
        {
          "output_type": "execute_result",
          "data": {
            "text/plain": [
              "0"
            ]
          },
          "metadata": {},
          "execution_count": 5
        }
      ]
    },
    {
      "cell_type": "code",
      "source": [
        "scalar.item() # Retrived ths the number inside of a tensor"
      ],
      "metadata": {
        "colab": {
          "base_uri": "https://localhost:8080/"
        },
        "id": "fTZTxb8qO1of",
        "outputId": "517e45ad-1fdb-4825-e2c9-9418cf0cb2b5"
      },
      "execution_count": null,
      "outputs": [
        {
          "output_type": "execute_result",
          "data": {
            "text/plain": [
              "7"
            ]
          },
          "metadata": {},
          "execution_count": 6
        }
      ]
    },
    {
      "cell_type": "code",
      "source": [
        "vector = torch.tensor([7, 7])\n",
        "vector"
      ],
      "metadata": {
        "colab": {
          "base_uri": "https://localhost:8080/"
        },
        "id": "cMa4bmLHPiGq",
        "outputId": "46d11cad-520d-41ec-9373-9e4a34681d73"
      },
      "execution_count": null,
      "outputs": [
        {
          "output_type": "execute_result",
          "data": {
            "text/plain": [
              "tensor([7, 7])"
            ]
          },
          "metadata": {},
          "execution_count": 7
        }
      ]
    },
    {
      "cell_type": "code",
      "source": [
        "vector.ndim     # Returns the total number of [] is in the tensor"
      ],
      "metadata": {
        "colab": {
          "base_uri": "https://localhost:8080/"
        },
        "id": "36rJIQjtPoE7",
        "outputId": "2e37f416-3142-4248-e50b-e17d7958311d"
      },
      "execution_count": null,
      "outputs": [
        {
          "output_type": "execute_result",
          "data": {
            "text/plain": [
              "1"
            ]
          },
          "metadata": {},
          "execution_count": 10
        }
      ]
    },
    {
      "cell_type": "code",
      "source": [
        "vector.shape   # shape return the number of items inside the rectangular boxes"
      ],
      "metadata": {
        "colab": {
          "base_uri": "https://localhost:8080/"
        },
        "id": "9V71Bq4MP-ZA",
        "outputId": "5c669cc0-a70e-489d-8fea-7b4cb241a5da"
      },
      "execution_count": null,
      "outputs": [
        {
          "output_type": "execute_result",
          "data": {
            "text/plain": [
              "torch.Size([2])"
            ]
          },
          "metadata": {},
          "execution_count": 8
        }
      ]
    },
    {
      "cell_type": "code",
      "source": [
        "MATRIX = torch.tensor([[7, 8], [9, 10]])\n",
        "MATRIX"
      ],
      "metadata": {
        "colab": {
          "base_uri": "https://localhost:8080/"
        },
        "id": "mhPk1LkSQNOq",
        "outputId": "65c4e79b-0640-4d73-f97b-ee187209cac9"
      },
      "execution_count": null,
      "outputs": [
        {
          "output_type": "execute_result",
          "data": {
            "text/plain": [
              "tensor([[ 7,  8],\n",
              "        [ 9, 10]])"
            ]
          },
          "metadata": {},
          "execution_count": 9
        }
      ]
    },
    {
      "cell_type": "code",
      "source": [
        "MATRIX.ndim"
      ],
      "metadata": {
        "colab": {
          "base_uri": "https://localhost:8080/"
        },
        "id": "PxQNJglSQta0",
        "outputId": "84b44400-a14b-4f71-e75d-bf62175f8ab3"
      },
      "execution_count": null,
      "outputs": [
        {
          "output_type": "execute_result",
          "data": {
            "text/plain": [
              "2"
            ]
          },
          "metadata": {},
          "execution_count": 11
        }
      ]
    },
    {
      "cell_type": "code",
      "source": [
        "MATRIX.shape"
      ],
      "metadata": {
        "colab": {
          "base_uri": "https://localhost:8080/"
        },
        "id": "nnZw997oRYQ8",
        "outputId": "538f34bd-8b7e-48aa-fd4f-491bd2ae049b"
      },
      "execution_count": null,
      "outputs": [
        {
          "output_type": "execute_result",
          "data": {
            "text/plain": [
              "torch.Size([2, 2])"
            ]
          },
          "metadata": {},
          "execution_count": 12
        }
      ]
    },
    {
      "cell_type": "code",
      "source": [
        "TENSOR = torch.tensor([[[1, 2, 3], [3, 5, 9], [2, 4, 5]]])\n",
        "TENSOR"
      ],
      "metadata": {
        "colab": {
          "base_uri": "https://localhost:8080/"
        },
        "id": "b1M2SOdARYZ4",
        "outputId": "d0b389c1-7fb3-47a7-ba39-f9473d4d3dfa"
      },
      "execution_count": null,
      "outputs": [
        {
          "output_type": "execute_result",
          "data": {
            "text/plain": [
              "tensor([[[1, 2, 3],\n",
              "         [3, 5, 9],\n",
              "         [2, 4, 5]]])"
            ]
          },
          "metadata": {},
          "execution_count": 13
        }
      ]
    },
    {
      "cell_type": "code",
      "source": [
        "TENSOR.ndim"
      ],
      "metadata": {
        "colab": {
          "base_uri": "https://localhost:8080/"
        },
        "id": "gxBQZ4ELRomR",
        "outputId": "41f465ec-96e1-4ddb-be17-9428ee56bd43"
      },
      "execution_count": null,
      "outputs": [
        {
          "output_type": "execute_result",
          "data": {
            "text/plain": [
              "3"
            ]
          },
          "metadata": {},
          "execution_count": 14
        }
      ]
    },
    {
      "cell_type": "code",
      "source": [
        "TENSOR.shape"
      ],
      "metadata": {
        "colab": {
          "base_uri": "https://localhost:8080/"
        },
        "id": "7Sp2FlGSSA-4",
        "outputId": "ed3979c7-4d82-4f90-e4af-ea7089ea7888"
      },
      "execution_count": null,
      "outputs": [
        {
          "output_type": "execute_result",
          "data": {
            "text/plain": [
              "torch.Size([1, 3, 3])"
            ]
          },
          "metadata": {},
          "execution_count": 20
        }
      ]
    },
    {
      "cell_type": "code",
      "source": [
        "# creates matrix / set of tensors with random numbers\n",
        "random_tensor = torch.rand(size=(3, 4))\n",
        "random_tensor, random_tensor.dtype"
      ],
      "metadata": {
        "colab": {
          "base_uri": "https://localhost:8080/"
        },
        "id": "RJS_mPtoT9Oc",
        "outputId": "5f0e2232-c0a3-42a0-e337-f1878f64a6dd"
      },
      "execution_count": null,
      "outputs": [
        {
          "output_type": "execute_result",
          "data": {
            "text/plain": [
              "(tensor([[0.9504, 0.4689, 0.5719, 0.6139],\n",
              "         [0.0840, 0.5759, 0.5536, 0.4501],\n",
              "         [0.4740, 0.8627, 0.6162, 0.2882]]),\n",
              " torch.float32)"
            ]
          },
          "metadata": {},
          "execution_count": 24
        }
      ]
    },
    {
      "cell_type": "code",
      "source": [
        "# Create a random tensor of size (224, 224, 3)\n",
        "random_image_size_tensor = torch.rand(size=(224, 224, 3))\n",
        "random_image_size_tensor.shape, random_image_size_tensor.ndim"
      ],
      "metadata": {
        "colab": {
          "base_uri": "https://localhost:8080/"
        },
        "id": "MZCdt6a9jbyI",
        "outputId": "d0416c2e-c997-4362-98b0-291b8d3947dd"
      },
      "execution_count": null,
      "outputs": [
        {
          "output_type": "execute_result",
          "data": {
            "text/plain": [
              "(torch.Size([224, 224, 3]), 3)"
            ]
          },
          "metadata": {},
          "execution_count": 15
        }
      ]
    },
    {
      "cell_type": "code",
      "source": [
        "# tensor full of zeros, used when masking NN during training etcc\n",
        "zeros = torch.zeros(size=(3, 4))\n",
        "zeros, zeros.dtype"
      ],
      "metadata": {
        "colab": {
          "base_uri": "https://localhost:8080/"
        },
        "id": "Q2tWzALACqWZ",
        "outputId": "380a6227-b8a5-4e83-a1dc-de516c0e2a1e"
      },
      "execution_count": null,
      "outputs": [
        {
          "output_type": "execute_result",
          "data": {
            "text/plain": [
              "(tensor([[0., 0., 0., 0.],\n",
              "         [0., 0., 0., 0.],\n",
              "         [0., 0., 0., 0.]]),\n",
              " torch.float32)"
            ]
          },
          "metadata": {},
          "execution_count": 16
        }
      ]
    },
    {
      "cell_type": "code",
      "source": [
        "ones = torch.ones(size=(3, 4))  # I belive only zero and one are build into pytorch\n",
        "ones, ones.dtype"
      ],
      "metadata": {
        "colab": {
          "base_uri": "https://localhost:8080/"
        },
        "id": "sr3SnxgrC3qa",
        "outputId": "a61534d9-c504-41c4-b35a-d74b10f90b2d"
      },
      "execution_count": null,
      "outputs": [
        {
          "output_type": "execute_result",
          "data": {
            "text/plain": [
              "(tensor([[1., 1., 1., 1.],\n",
              "         [1., 1., 1., 1.],\n",
              "         [1., 1., 1., 1.]]),\n",
              " torch.float32)"
            ]
          },
          "metadata": {},
          "execution_count": 17
        }
      ]
    },
    {
      "cell_type": "code",
      "source": [
        "# SImilar to python, we can map througha list of sort using a range (arange)\n",
        "\n",
        "zero_to_ten_deprecated = torch.range(0, 0)\n",
        "\n",
        "zero_to_ten = torch.arange(0, 10, 1)    # start from zero, end at 10, and iterate by 1\n",
        "zero_to_ten"
      ],
      "metadata": {
        "colab": {
          "base_uri": "https://localhost:8080/"
        },
        "id": "S-uBz4CkC9tW",
        "outputId": "25461c2f-4456-4464-9133-835424f8b140"
      },
      "execution_count": null,
      "outputs": [
        {
          "output_type": "stream",
          "name": "stderr",
          "text": [
            "/tmp/ipython-input-18-1549496244.py:3: UserWarning: torch.range is deprecated and will be removed in a future release because its behavior is inconsistent with Python's range builtin. Instead, use torch.arange, which produces values in [start, end).\n",
            "  zero_to_ten_deprecated = torch.range(0, 0)\n"
          ]
        },
        {
          "output_type": "execute_result",
          "data": {
            "text/plain": [
              "tensor([0, 1, 2, 3, 4, 5, 6, 7, 8, 9])"
            ]
          },
          "metadata": {},
          "execution_count": 18
        }
      ]
    },
    {
      "cell_type": "code",
      "source": [
        "# deteming detatypes\n",
        "float_32 = torch.tensor([1.0, 3.0, 8.2], dtype=None, device=None, requires_grad=False)\n",
        "float_32.shape, float_32.dtype, float_32.device\n"
      ],
      "metadata": {
        "colab": {
          "base_uri": "https://localhost:8080/"
        },
        "id": "ZsoPEDmHDiiV",
        "outputId": "a2cad193-56f8-43cf-fee1-88b8bf5937f2"
      },
      "execution_count": null,
      "outputs": [
        {
          "output_type": "execute_result",
          "data": {
            "text/plain": [
              "(torch.Size([3]), torch.float32, device(type='cpu'))"
            ]
          },
          "metadata": {},
          "execution_count": 21
        }
      ]
    },
    {
      "cell_type": "code",
      "source": [
        "# we can specifiy the float of a tensor\n",
        "float_64 = torch.tensor([4.3, 6.2, 19.3], dtype=torch.float64)\n",
        "float_64.dtype\n"
      ],
      "metadata": {
        "colab": {
          "base_uri": "https://localhost:8080/"
        },
        "id": "hSuE8IQmEx3x",
        "outputId": "265f5802-c18f-4309-9981-d40d62eec3bf"
      },
      "execution_count": null,
      "outputs": [
        {
          "output_type": "execute_result",
          "data": {
            "text/plain": [
              "torch.float64"
            ]
          },
          "metadata": {},
          "execution_count": 24
        }
      ]
    },
    {
      "cell_type": "code",
      "source": [
        "# Operation with tensors\n",
        "\n",
        "tensor = torch.tensor([1, 2, 5])\n",
        "tensor += 100\n",
        "print(tensor)\n",
        "\n",
        "second_tensor = torch.multiply(tensor, 10)\n",
        "print(second_tensor)"
      ],
      "metadata": {
        "colab": {
          "base_uri": "https://localhost:8080/"
        },
        "id": "NboRnmHiFZfR",
        "outputId": "00c5750c-a931-499f-b9ac-d786ae6a9402"
      },
      "execution_count": null,
      "outputs": [
        {
          "output_type": "stream",
          "name": "stdout",
          "text": [
            "tensor([101, 102, 105])\n",
            "tensor([1010, 1020, 1050])\n"
          ]
        }
      ]
    },
    {
      "cell_type": "code",
      "source": [
        "new_tensor = second_tensor * tensor # works\n",
        "print(new_tensor)"
      ],
      "metadata": {
        "colab": {
          "base_uri": "https://localhost:8080/"
        },
        "id": "JLWxmm44GvDD",
        "outputId": "06d44426-494a-4ae6-cebd-fb3d1baa3888"
      },
      "execution_count": null,
      "outputs": [
        {
          "output_type": "stream",
          "name": "stdout",
          "text": [
            "tensor([102010, 104040, 110250])\n"
          ]
        }
      ]
    },
    {
      "cell_type": "code",
      "source": [
        "# We have to tranposse matrix before multiplying them, else we will get errors\n",
        "tensor_A = torch.tensor([[1, 2], [3, 4], [5, 6]])\n",
        "tensor_B = torch.tensor([[7, 10], [8, 11], [9, 12]])\n",
        "\n",
        "print(tensor_A)\n",
        "print(tensor_B)\n",
        "tensor_out = tensor_A @ tensor_B.T\n",
        "tensor_out"
      ],
      "metadata": {
        "colab": {
          "base_uri": "https://localhost:8080/"
        },
        "id": "Ff1b6WxtHLPk",
        "outputId": "20a7c024-a257-4382-e92b-fa4aee15c0a4"
      },
      "execution_count": null,
      "outputs": [
        {
          "output_type": "stream",
          "name": "stdout",
          "text": [
            "tensor([[1, 2],\n",
            "        [3, 4],\n",
            "        [5, 6]])\n",
            "tensor([[ 7, 10],\n",
            "        [ 8, 11],\n",
            "        [ 9, 12]])\n"
          ]
        },
        {
          "output_type": "execute_result",
          "data": {
            "text/plain": [
              "tensor([[ 27,  30,  33],\n",
              "        [ 61,  68,  75],\n",
              "        [ 95, 106, 117]])"
            ]
          },
          "metadata": {},
          "execution_count": 36
        }
      ]
    },
    {
      "cell_type": "code",
      "source": [
        "x = torch.arange(0, 2000, 10)\n",
        "x"
      ],
      "metadata": {
        "colab": {
          "base_uri": "https://localhost:8080/"
        },
        "id": "fj7FUU6PtsyG",
        "outputId": "ad38b73a-d9d5-46a9-cded-3971e0871979"
      },
      "execution_count": null,
      "outputs": [
        {
          "output_type": "execute_result",
          "data": {
            "text/plain": [
              "tensor([   0,   10,   20,   30,   40,   50,   60,   70,   80,   90,  100,  110,\n",
              "         120,  130,  140,  150,  160,  170,  180,  190,  200,  210,  220,  230,\n",
              "         240,  250,  260,  270,  280,  290,  300,  310,  320,  330,  340,  350,\n",
              "         360,  370,  380,  390,  400,  410,  420,  430,  440,  450,  460,  470,\n",
              "         480,  490,  500,  510,  520,  530,  540,  550,  560,  570,  580,  590,\n",
              "         600,  610,  620,  630,  640,  650,  660,  670,  680,  690,  700,  710,\n",
              "         720,  730,  740,  750,  760,  770,  780,  790,  800,  810,  820,  830,\n",
              "         840,  850,  860,  870,  880,  890,  900,  910,  920,  930,  940,  950,\n",
              "         960,  970,  980,  990, 1000, 1010, 1020, 1030, 1040, 1050, 1060, 1070,\n",
              "        1080, 1090, 1100, 1110, 1120, 1130, 1140, 1150, 1160, 1170, 1180, 1190,\n",
              "        1200, 1210, 1220, 1230, 1240, 1250, 1260, 1270, 1280, 1290, 1300, 1310,\n",
              "        1320, 1330, 1340, 1350, 1360, 1370, 1380, 1390, 1400, 1410, 1420, 1430,\n",
              "        1440, 1450, 1460, 1470, 1480, 1490, 1500, 1510, 1520, 1530, 1540, 1550,\n",
              "        1560, 1570, 1580, 1590, 1600, 1610, 1620, 1630, 1640, 1650, 1660, 1670,\n",
              "        1680, 1690, 1700, 1710, 1720, 1730, 1740, 1750, 1760, 1770, 1780, 1790,\n",
              "        1800, 1810, 1820, 1830, 1840, 1850, 1860, 1870, 1880, 1890, 1900, 1910,\n",
              "        1920, 1930, 1940, 1950, 1960, 1970, 1980, 1990])"
            ]
          },
          "metadata": {},
          "execution_count": 3
        }
      ]
    },
    {
      "cell_type": "code",
      "source": [
        "print(x.min())\n",
        "print(x.type(torch.float32).mean())\n",
        "print(x.max())"
      ],
      "metadata": {
        "colab": {
          "base_uri": "https://localhost:8080/"
        },
        "id": "-EXbpByfuEug",
        "outputId": "aeba96e0-f119-4cfa-ccfe-408573dc3351"
      },
      "execution_count": null,
      "outputs": [
        {
          "output_type": "stream",
          "name": "stdout",
          "text": [
            "tensor(0)\n",
            "tensor(995.)\n",
            "tensor(1990)\n"
          ]
        }
      ]
    },
    {
      "cell_type": "code",
      "source": [
        "x.dtype"
      ],
      "metadata": {
        "colab": {
          "base_uri": "https://localhost:8080/"
        },
        "id": "GRj9fPojuYeY",
        "outputId": "4076098d-d222-4a56-f108-99619a85b35d"
      },
      "execution_count": null,
      "outputs": [
        {
          "output_type": "execute_result",
          "data": {
            "text/plain": [
              "torch.int64"
            ]
          },
          "metadata": {},
          "execution_count": 8
        }
      ]
    },
    {
      "cell_type": "code",
      "source": [
        "x = torch.arange(1, 22, 2)\n",
        "x, x.shape"
      ],
      "metadata": {
        "colab": {
          "base_uri": "https://localhost:8080/"
        },
        "id": "Xw95uChFvnv4",
        "outputId": "05d847e9-a5d3-42ed-b7f1-5b36f9990d82"
      },
      "execution_count": null,
      "outputs": [
        {
          "output_type": "execute_result",
          "data": {
            "text/plain": [
              "(tensor([ 1,  3,  5,  7,  9, 11, 13, 15, 17, 19, 21]), torch.Size([11]))"
            ]
          },
          "metadata": {},
          "execution_count": 15
        }
      ]
    },
    {
      "cell_type": "code",
      "source": [
        "z = x.reshape(1, 11)\n",
        "z, z.shape"
      ],
      "metadata": {
        "colab": {
          "base_uri": "https://localhost:8080/"
        },
        "id": "eTSLQCXZvq02",
        "outputId": "1c4ddd5c-25bd-42b8-b6a0-d50857bffb9c"
      },
      "execution_count": null,
      "outputs": [
        {
          "output_type": "execute_result",
          "data": {
            "text/plain": [
              "(tensor([[ 1,  3,  5,  7,  9, 11, 13, 15, 17, 19, 21]]), torch.Size([1, 11]))"
            ]
          },
          "metadata": {},
          "execution_count": 21
        }
      ]
    },
    {
      "cell_type": "code",
      "source": [
        "z = x.view(1, 11)\n",
        "z, z.shape"
      ],
      "metadata": {
        "colab": {
          "base_uri": "https://localhost:8080/"
        },
        "id": "iZ1ysbJ8xtOA",
        "outputId": "400edd6e-6483-4862-c0ca-f57234a50101"
      },
      "execution_count": null,
      "outputs": [
        {
          "output_type": "execute_result",
          "data": {
            "text/plain": [
              "(tensor([[ 1,  3,  5,  7,  9, 11, 13, 15, 17, 19, 21]]), torch.Size([1, 11]))"
            ]
          },
          "metadata": {},
          "execution_count": 24
        }
      ]
    },
    {
      "cell_type": "code",
      "source": [
        "# Stacking tensors on top of themselves haha\n",
        "new_tensors = torch.arange(1 , 20, 2)\n",
        "stacked = torch.stack([new_tensors, new_tensors, new_tensors, new_tensors], dim=0)\n",
        "stacked"
      ],
      "metadata": {
        "colab": {
          "base_uri": "https://localhost:8080/"
        },
        "id": "xkjO0OlFy9D9",
        "outputId": "2f247f5a-e120-46ec-af31-773fb6876e7c"
      },
      "execution_count": null,
      "outputs": [
        {
          "output_type": "execute_result",
          "data": {
            "text/plain": [
              "tensor([[ 1,  3,  5,  7,  9, 11, 13, 15, 17, 19],\n",
              "        [ 1,  3,  5,  7,  9, 11, 13, 15, 17, 19],\n",
              "        [ 1,  3,  5,  7,  9, 11, 13, 15, 17, 19],\n",
              "        [ 1,  3,  5,  7,  9, 11, 13, 15, 17, 19]])"
            ]
          },
          "metadata": {},
          "execution_count": 35
        }
      ]
    },
    {
      "cell_type": "code",
      "source": [
        "# stack, for adding tensors\n",
        "# squeeze for removing tensors\n",
        "print(f\"Previous tensor: {stacked}\")\n",
        "print(f\"Previous shape: {stacked.shape}\")\n",
        "\n",
        "# Remove extra dimension from x_reshaped\n",
        "x_squeezed = stacked.squeeze()\n",
        "print(f\"\\nNew tensor: {x_squeezed}\")\n",
        "print(f\"New shape: {x_squeezed.shape}\")"
      ],
      "metadata": {
        "colab": {
          "base_uri": "https://localhost:8080/"
        },
        "id": "uegNzyi10R3e",
        "outputId": "3d23cd64-a5ae-453e-a9cf-b6477538726d"
      },
      "execution_count": null,
      "outputs": [
        {
          "output_type": "stream",
          "name": "stdout",
          "text": [
            "Previous tensor: tensor([[ 1,  3,  5,  7,  9, 11, 13, 15, 17, 19],\n",
            "        [ 1,  3,  5,  7,  9, 11, 13, 15, 17, 19],\n",
            "        [ 1,  3,  5,  7,  9, 11, 13, 15, 17, 19],\n",
            "        [ 1,  3,  5,  7,  9, 11, 13, 15, 17, 19]])\n",
            "Previous shape: torch.Size([4, 10])\n",
            "\n",
            "New tensor: tensor([[ 1,  3,  5,  7,  9, 11, 13, 15, 17, 19],\n",
            "        [ 1,  3,  5,  7,  9, 11, 13, 15, 17, 19],\n",
            "        [ 1,  3,  5,  7,  9, 11, 13, 15, 17, 19],\n",
            "        [ 1,  3,  5,  7,  9, 11, 13, 15, 17, 19]])\n",
            "New shape: torch.Size([4, 10])\n"
          ]
        }
      ]
    },
    {
      "cell_type": "code",
      "source": [
        "import numpy as np\n",
        "\n",
        "array = np.arange(1.0, 8.0)\n",
        "tensor = torch.from_numpy(array)\n",
        "array, tensor"
      ],
      "metadata": {
        "colab": {
          "base_uri": "https://localhost:8080/"
        },
        "id": "GAyYr6sW1Oa4",
        "outputId": "6c828deb-6661-40b1-cdbb-1d1662ab1e91"
      },
      "execution_count": null,
      "outputs": [
        {
          "output_type": "execute_result",
          "data": {
            "text/plain": [
              "(array([1., 2., 3., 4., 5., 6., 7.]),\n",
              " tensor([1., 2., 3., 4., 5., 6., 7.], dtype=torch.float64))"
            ]
          },
          "metadata": {},
          "execution_count": 38
        }
      ]
    },
    {
      "cell_type": "markdown",
      "source": [
        "Next:"
      ],
      "metadata": {
        "id": "gOvs0BdQfy3e"
      }
    },
    {
      "cell_type": "markdown",
      "source": [
        "PYTOCH WALKTHROUGH.  - Starting from \"Reshaping, stacking, squeezing and unsqueezing\""
      ],
      "metadata": {
        "id": "QMDx9s0JfmAW"
      }
    },
    {
      "cell_type": "code",
      "source": [
        "x = torch.arange(1., 8.)\n",
        "x, x.shape"
      ],
      "metadata": {
        "id": "D7wVYgUT4Y9F",
        "colab": {
          "base_uri": "https://localhost:8080/"
        },
        "outputId": "d81bc1b0-0990-4eca-88c8-55f32cb0fd81"
      },
      "execution_count": 7,
      "outputs": [
        {
          "output_type": "execute_result",
          "data": {
            "text/plain": [
              "(tensor([1., 2., 3., 4., 5., 6., 7.]), torch.Size([7]))"
            ]
          },
          "metadata": {},
          "execution_count": 7
        }
      ]
    },
    {
      "cell_type": "code",
      "source": [
        "x_reshape = x.reshape(1, 7)   # adds an extra dimention\n",
        "x_reshape, x_reshape.shape"
      ],
      "metadata": {
        "colab": {
          "base_uri": "https://localhost:8080/"
        },
        "id": "kONKoRtjgElK",
        "outputId": "329ab539-96d2-4a9d-de9e-f34d957f65c5"
      },
      "execution_count": 8,
      "outputs": [
        {
          "output_type": "execute_result",
          "data": {
            "text/plain": [
              "(tensor([[1., 2., 3., 4., 5., 6., 7.]]), torch.Size([1, 7]))"
            ]
          },
          "metadata": {},
          "execution_count": 8
        }
      ]
    },
    {
      "cell_type": "code",
      "source": [
        "z = x.view(1, 7)\n",
        "z, z.shape"
      ],
      "metadata": {
        "colab": {
          "base_uri": "https://localhost:8080/"
        },
        "id": "D53U0uaBg9bF",
        "outputId": "283bfdd2-90c8-40c3-aadf-4f92c62f5798"
      },
      "execution_count": 9,
      "outputs": [
        {
          "output_type": "execute_result",
          "data": {
            "text/plain": [
              "(tensor([[1., 2., 3., 4., 5., 6., 7.]]), torch.Size([1, 7]))"
            ]
          },
          "metadata": {},
          "execution_count": 9
        }
      ]
    },
    {
      "cell_type": "code",
      "source": [
        "z[:, 0] = 5\n",
        "z, x"
      ],
      "metadata": {
        "colab": {
          "base_uri": "https://localhost:8080/"
        },
        "id": "AY2kR-2tgvWz",
        "outputId": "d2d1d19e-0048-4bf2-b945-0e7043a54659"
      },
      "execution_count": 11,
      "outputs": [
        {
          "output_type": "execute_result",
          "data": {
            "text/plain": [
              "(tensor([[5., 2., 3., 4., 5., 6., 7.]]), tensor([5., 2., 3., 4., 5., 6., 7.]))"
            ]
          },
          "metadata": {},
          "execution_count": 11
        }
      ]
    },
    {
      "cell_type": "code",
      "source": [
        "x_stacked = torch.stack([x, x, x, x], dim=1)      # stack dimensions on to each other\n",
        "x_stacked                                         # 0: row, 1: col"
      ],
      "metadata": {
        "colab": {
          "base_uri": "https://localhost:8080/"
        },
        "id": "BaoMY7_UhtVn",
        "outputId": "29754fae-38ea-456e-c4bb-d0ab4925f3ba"
      },
      "execution_count": 17,
      "outputs": [
        {
          "output_type": "execute_result",
          "data": {
            "text/plain": [
              "tensor([[5., 5., 5., 5.],\n",
              "        [2., 2., 2., 2.],\n",
              "        [3., 3., 3., 3.],\n",
              "        [4., 4., 4., 4.],\n",
              "        [5., 5., 5., 5.],\n",
              "        [6., 6., 6., 6.],\n",
              "        [7., 7., 7., 7.]])"
            ]
          },
          "metadata": {},
          "execution_count": 17
        }
      ]
    },
    {
      "cell_type": "code",
      "source": [
        "x_original = torch.rand(size=(224, 224, 3))       # originals.\n",
        "x_permuted = x_original.permute(2, 0, 1)          # news axis: (3, 224, 224)\n",
        "x_original.shape, x_permuted.shape"
      ],
      "metadata": {
        "colab": {
          "base_uri": "https://localhost:8080/"
        },
        "id": "-0Q7SAi8iON9",
        "outputId": "6ab4c803-d1b7-4526-b374-e325c453d24f"
      },
      "execution_count": 18,
      "outputs": [
        {
          "output_type": "execute_result",
          "data": {
            "text/plain": [
              "(torch.Size([224, 224, 3]), torch.Size([3, 224, 224]))"
            ]
          },
          "metadata": {},
          "execution_count": 18
        }
      ]
    },
    {
      "cell_type": "markdown",
      "source": [
        "INDEXING"
      ],
      "metadata": {
        "id": "fCXTwN2wjczC"
      }
    },
    {
      "cell_type": "code",
      "source": [
        "x = torch.arange(1, 10).reshape(1, 3, 3)          # indexing arange using .reshape\n",
        "x, x.shape"
      ],
      "metadata": {
        "colab": {
          "base_uri": "https://localhost:8080/"
        },
        "id": "DfrdOmxcje6U",
        "outputId": "0492e7f5-65c6-4d2c-8004-138a2f3c4817"
      },
      "execution_count": 19,
      "outputs": [
        {
          "output_type": "execute_result",
          "data": {
            "text/plain": [
              "(tensor([[[1, 2, 3],\n",
              "          [4, 5, 6],\n",
              "          [7, 8, 9]]]),\n",
              " torch.Size([1, 3, 3]))"
            ]
          },
          "metadata": {},
          "execution_count": 19
        }
      ]
    },
    {
      "cell_type": "markdown",
      "source": [
        "Pytorch and Numpy"
      ],
      "metadata": {
        "id": "lC5eoLaIkezj"
      }
    },
    {
      "cell_type": "code",
      "source": [
        "array = np.arange(1.0, 8.0)\n",
        "tensor = torch.from_numpy(array)\n",
        "array, tensor"
      ],
      "metadata": {
        "colab": {
          "base_uri": "https://localhost:8080/"
        },
        "id": "KZdZ2gcykCUw",
        "outputId": "7b31344e-c4c5-4da4-eed3-dc2c561e0de5"
      },
      "execution_count": 21,
      "outputs": [
        {
          "output_type": "execute_result",
          "data": {
            "text/plain": [
              "(array([1., 2., 3., 4., 5., 6., 7.]),\n",
              " tensor([1., 2., 3., 4., 5., 6., 7.], dtype=torch.float64))"
            ]
          },
          "metadata": {},
          "execution_count": 21
        }
      ]
    },
    {
      "cell_type": "code",
      "source": [
        "tensor = torch.ones(10)                           # We cabn move tensor from pytorhc to numpy\n",
        "np_tensor = tensor.numpy()\n",
        "tensor, np_tensor"
      ],
      "metadata": {
        "colab": {
          "base_uri": "https://localhost:8080/"
        },
        "id": "wgAqRsV1k-X4",
        "outputId": "ec53d96e-1514-4eef-db0c-d5a13393b378"
      },
      "execution_count": 23,
      "outputs": [
        {
          "output_type": "execute_result",
          "data": {
            "text/plain": [
              "(tensor([1., 1., 1., 1., 1., 1., 1., 1., 1., 1.]),\n",
              " array([1., 1., 1., 1., 1., 1., 1., 1., 1., 1.], dtype=float32))"
            ]
          },
          "metadata": {},
          "execution_count": 23
        }
      ]
    },
    {
      "cell_type": "markdown",
      "source": [
        "REPRODUCTIVITY : RANDOMNESS ON DIFFERENT DEVICES"
      ],
      "metadata": {
        "id": "Gu2nelc8l-Ju"
      }
    },
    {
      "cell_type": "code",
      "source": [
        "import random\n",
        "\n",
        "RANDOM_SEED = 90                                  # seeds produce same result across different platforms\n",
        "torch.manual_seed(seed=RANDOM_SEED)\n",
        "random_tensor_C = torch.rand(3, 4)\n",
        "\n",
        "torch.manual_seed(seed=RANDOM_SEED)\n",
        "random_tensor_D = torch.rand(3, 4)\n",
        "\n",
        "random_tensor_C == random_tensor_D"
      ],
      "metadata": {
        "colab": {
          "base_uri": "https://localhost:8080/"
        },
        "id": "rJbVhDdqllBU",
        "outputId": "a49332f7-f494-403e-8768-17a2f966f06f"
      },
      "execution_count": 31,
      "outputs": [
        {
          "output_type": "execute_result",
          "data": {
            "text/plain": [
              "tensor([[True, True, True, True],\n",
              "        [True, True, True, True],\n",
              "        [True, True, True, True]])"
            ]
          },
          "metadata": {},
          "execution_count": 31
        }
      ]
    },
    {
      "cell_type": "code",
      "source": [
        "torch.manual_seed(0)\n",
        "\"\"\"\" This sets the seed for PyTorch’s internal randomness, so that operations like random tensor generation or weight initialization are repeatable.\n",
        "It doesn’t affect all “apps” in your program — just PyTorch operations.  \"\"\"\n",
        "\n",
        "random.seed(0)\n",
        "\"\"\" Sets the seed for Python’s built-in random module so that results from random.* functions are repeatable.\"\"\""
      ],
      "metadata": {
        "colab": {
          "base_uri": "https://localhost:8080/",
          "height": 52
        },
        "id": "Yosrq_gZmfoI",
        "outputId": "bc61c8dd-a15b-4702-917c-72c80a0b1712"
      },
      "execution_count": 34,
      "outputs": [
        {
          "output_type": "execute_result",
          "data": {
            "text/plain": [
              "' Sets the seed for Python’s built-in random module so that results from random.* functions are repeatable.'"
            ],
            "application/vnd.google.colaboratory.intrinsic+json": {
              "type": "string"
            }
          },
          "metadata": {},
          "execution_count": 34
        }
      ]
    },
    {
      "cell_type": "markdown",
      "source": [
        "CUDA on laptop"
      ],
      "metadata": {
        "id": "VbyxljWdp25k"
      }
    },
    {
      "cell_type": "markdown",
      "source": [
        "Making useof Cuda"
      ],
      "metadata": {
        "id": "_ocevDIvp5o4"
      }
    },
    {
      "cell_type": "code",
      "source": [
        "torch.cuda.is_available()                                       # check whether cuda is available for use"
      ],
      "metadata": {
        "colab": {
          "base_uri": "https://localhost:8080/"
        },
        "id": "lAVyB4eWpunf",
        "outputId": "1bf7f60e-2276-4b38-fe9e-e92286bcfe7f"
      },
      "execution_count": 40,
      "outputs": [
        {
          "output_type": "execute_result",
          "data": {
            "text/plain": [
              "False"
            ]
          },
          "metadata": {},
          "execution_count": 40
        }
      ]
    },
    {
      "cell_type": "code",
      "source": [
        "device = \"cuda\" if torch.cuda.is_available() else \"cpu\"         # use which ever is avalable\n",
        "device\n",
        "# device = \"mps\" if torch.cuda.is_available() else \"cpu\"        # Use 'mps' when using M1..."
      ],
      "metadata": {
        "colab": {
          "base_uri": "https://localhost:8080/",
          "height": 35
        },
        "id": "SO8CDnQhqI3O",
        "outputId": "86249cc4-8f6f-4c6c-abad-496557cae43f"
      },
      "execution_count": 41,
      "outputs": [
        {
          "output_type": "execute_result",
          "data": {
            "text/plain": [
              "'cpu'"
            ],
            "application/vnd.google.colaboratory.intrinsic+json": {
              "type": "string"
            }
          },
          "metadata": {},
          "execution_count": 41
        }
      ]
    },
    {
      "cell_type": "code",
      "source": [
        "tensor = torch.tensor([1, 2, 3])\n",
        "tensor_on_device = tensor.to(device)                            # Run tensor on what ever device is available\n",
        "tensor_on_device"
      ],
      "metadata": {
        "colab": {
          "base_uri": "https://localhost:8080/"
        },
        "id": "EHHsfRtzqWTs",
        "outputId": "2c877d02-52d6-48a9-ce60-d13dcecc7ee1"
      },
      "execution_count": 44,
      "outputs": [
        {
          "output_type": "execute_result",
          "data": {
            "text/plain": [
              "tensor([1, 2, 3])"
            ]
          },
          "metadata": {},
          "execution_count": 44
        }
      ]
    },
    {
      "cell_type": "markdown",
      "source": [
        "Exercise:\n",
        "\n",
        "Chapter 1: Exercise - LETS GOOO"
      ],
      "metadata": {
        "id": "KInT6yRlr6Y4"
      }
    },
    {
      "cell_type": "code",
      "source": [
        "# Exersice\n",
        "# 2\n",
        "rand_tensor = torch.rand(7, 7)\n",
        "# 3\n",
        "rand_tensor_2 = torch.rand(1, 7)\n",
        "mult_tensor = rand_tensor @ rand_tensor_2.T\n",
        "mult_tensor"
      ],
      "metadata": {
        "colab": {
          "base_uri": "https://localhost:8080/"
        },
        "id": "b4G_5hLmrfkO",
        "outputId": "caf2b6c5-bba0-4c0b-b51b-a5e111bfea18"
      },
      "execution_count": 51,
      "outputs": [
        {
          "output_type": "execute_result",
          "data": {
            "text/plain": [
              "tensor([[1.1355],\n",
              "        [1.2708],\n",
              "        [1.3344],\n",
              "        [0.9095],\n",
              "        [2.0434],\n",
              "        [1.4647],\n",
              "        [0.8178]])"
            ]
          },
          "metadata": {},
          "execution_count": 51
        }
      ]
    },
    {
      "cell_type": "code",
      "source": [
        "# 4\n",
        "torch.manual_seed(0)\n",
        "\n",
        "# 5\n",
        "rand_tensor = torch.rand(7, 7)\n",
        "rand_tensor_2 = torch.rand(1, 7)\n",
        "mult_tensor = rand_tensor @ rand_tensor_2.T\n",
        "mult_tensor"
      ],
      "metadata": {
        "colab": {
          "base_uri": "https://localhost:8080/"
        },
        "id": "PtCevms1vlyG",
        "outputId": "31f417b8-8a82-4f8f-e936-3bd2b6f8ae60"
      },
      "execution_count": 55,
      "outputs": [
        {
          "output_type": "execute_result",
          "data": {
            "text/plain": [
              "tensor([[1.8542],\n",
              "        [1.9611],\n",
              "        [2.2884],\n",
              "        [3.0481],\n",
              "        [1.7067],\n",
              "        [2.5290],\n",
              "        [1.7989]])"
            ]
          },
          "metadata": {},
          "execution_count": 55
        }
      ]
    },
    {
      "cell_type": "code",
      "source": [
        "# 6\n",
        "torch.cuda.manual_seed(1234)\n",
        "\n",
        "# 7\n",
        "rand_tensor = torch.rand(2, 3, device=\"cuda\")\n",
        "rand_tensor_2 = torch.rand(2, 3, device=\"cuda\")\n",
        "mult_tensor = rand_tensor @ rand_tensor_2.T\n",
        "mult_tensor, mult_tensor.shape"
      ],
      "metadata": {
        "colab": {
          "base_uri": "https://localhost:8080/"
        },
        "id": "XSxsK9quwrVs",
        "outputId": "55c7b2e8-2b8b-469c-81d8-ddcdfa9e7aaf"
      },
      "execution_count": 7,
      "outputs": [
        {
          "output_type": "execute_result",
          "data": {
            "text/plain": [
              "(tensor([[0.2786, 0.7668],\n",
              "         [0.7343, 0.6102]], device='cuda:0'),\n",
              " torch.Size([2, 2]))"
            ]
          },
          "metadata": {},
          "execution_count": 7
        }
      ]
    },
    {
      "cell_type": "code",
      "source": [
        "# 9\n",
        "print(f\"min: {mult_tensor.min()}\")\n",
        "print(f\"max: {mult_tensor.max()}\")"
      ],
      "metadata": {
        "colab": {
          "base_uri": "https://localhost:8080/"
        },
        "id": "c3Exiw9ty2pG",
        "outputId": "74fe08c1-9baf-4637-bb2b-55cfdcd342dc"
      },
      "execution_count": 12,
      "outputs": [
        {
          "output_type": "stream",
          "name": "stdout",
          "text": [
            "min: 0.27863210439682007\n",
            "max: 0.7667766809463501\n"
          ]
        }
      ]
    },
    {
      "cell_type": "code",
      "source": [
        "# 10\n",
        "torch.manual_seed(0)\n",
        "\n",
        "new_tensor = torch.rand(1, 1, 1, 10)\n",
        "new_tensor"
      ],
      "metadata": {
        "colab": {
          "base_uri": "https://localhost:8080/"
        },
        "id": "CLFNuM2801RT",
        "outputId": "168e5df1-f76a-4f0b-9d72-5fd638c40980"
      },
      "execution_count": 13,
      "outputs": [
        {
          "output_type": "execute_result",
          "data": {
            "text/plain": [
              "tensor([[[[0.4963, 0.7682, 0.0885, 0.1320, 0.3074, 0.6341, 0.4901, 0.8964,\n",
              "           0.4556, 0.6323]]]])"
            ]
          },
          "metadata": {},
          "execution_count": 13
        }
      ]
    },
    {
      "cell_type": "code",
      "source": [
        "new_tensor.squeeze(0)\n"
      ],
      "metadata": {
        "colab": {
          "base_uri": "https://localhost:8080/"
        },
        "id": "Qe_12SvQ05S7",
        "outputId": "b94485e2-0f0d-4309-9d0a-e03ad53c23a9"
      },
      "execution_count": 22,
      "outputs": [
        {
          "output_type": "execute_result",
          "data": {
            "text/plain": [
              "tensor([[[0.4963, 0.7682, 0.0885, 0.1320, 0.3074, 0.6341, 0.4901, 0.8964,\n",
              "          0.4556, 0.6323]]])"
            ]
          },
          "metadata": {},
          "execution_count": 22
        }
      ]
    },
    {
      "cell_type": "markdown",
      "source": [
        "CHAPTER 2 : LETS GO BRODY111111111111"
      ],
      "metadata": {
        "id": "lKmR8lty1iUD"
      }
    },
    {
      "cell_type": "markdown",
      "source": [
        "HGOOOOOOO"
      ],
      "metadata": {
        "id": "L5xiEUOO1nJj"
      }
    },
    {
      "cell_type": "code",
      "source": [],
      "metadata": {
        "id": "9hu0bcQN1mRW"
      },
      "execution_count": null,
      "outputs": []
    }
  ]
}