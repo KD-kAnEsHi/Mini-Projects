{
  "nbformat": 4,
  "nbformat_minor": 0,
  "metadata": {
    "colab": {
      "provenance": [],
      "authorship_tag": "ABX9TyOIK/B856cXvy3XvU9BSn9c",
      "include_colab_link": true
    },
    "kernelspec": {
      "name": "python3",
      "display_name": "Python 3"
    },
    "language_info": {
      "name": "python"
    }
  },
  "cells": [
    {
      "cell_type": "markdown",
      "metadata": {
        "id": "view-in-github",
        "colab_type": "text"
      },
      "source": [
        "<a href=\"https://colab.research.google.com/github/KD-kAnEsHi/Mini-Projects/blob/main/PyTorch_Workflow_Chapter_2.ipynb\" target=\"_parent\"><img src=\"https://colab.research.google.com/assets/colab-badge.svg\" alt=\"Open In Colab\"/></a>"
      ]
    },
    {
      "cell_type": "code",
      "source": [
        "what_were_covering = {1: \"data (prepare and load)\",\n",
        "    2: \"build model\",\n",
        "    3: \"fitting the model to data (training)\",\n",
        "    4: \"making predictions and evaluating a model (inference)\",\n",
        "    5: \"saving and loading a model\",\n",
        "    6: \"putting it all together\"\n",
        "}"
      ],
      "metadata": {
        "id": "pxEIhttild0-"
      },
      "execution_count": 1,
      "outputs": []
    },
    {
      "cell_type": "code",
      "source": [
        "import torch\n",
        "from torch import nn # nn contains all of PyTorch's building blocks for neural networks\n",
        "import matplotlib.pyplot as plt\n",
        "\n",
        "# Check PyTorch version\n",
        "torch.__version__"
      ],
      "metadata": {
        "colab": {
          "base_uri": "https://localhost:8080/",
          "height": 35
        },
        "id": "f64jxrMNlkyG",
        "outputId": "3e08cee1-77b3-4445-ace9-4b2677aaa107"
      },
      "execution_count": 2,
      "outputs": [
        {
          "output_type": "execute_result",
          "data": {
            "text/plain": [
              "'2.6.0+cu124'"
            ],
            "application/vnd.google.colaboratory.intrinsic+json": {
              "type": "string"
            }
          },
          "metadata": {},
          "execution_count": 2
        }
      ]
    },
    {
      "cell_type": "markdown",
      "source": [],
      "metadata": {
        "id": "bjLpjP5KldbP"
      }
    },
    {
      "cell_type": "code",
      "source": [
        "# Generates data, we will make use of to run a regression and gradient model\n",
        "\n",
        "weight = 0.7\n",
        "bias = 0.3\n",
        "\n",
        "start = 0\n",
        "end = 1\n",
        "step = 0.02\n",
        "x = torch.arange(start, end, step).unsqueeze(1)\n",
        "y = weight * x + bias\n",
        "x[:10], y[:10]\n",
        "\n",
        "# x: features\n",
        "# y: w-weights, x-features, b-bias"
      ],
      "metadata": {
        "colab": {
          "base_uri": "https://localhost:8080/"
        },
        "id": "8xUtg34i22AV",
        "outputId": "d3d0af11-2214-4ec5-f6b6-1dd8724aebe9"
      },
      "execution_count": 3,
      "outputs": [
        {
          "output_type": "execute_result",
          "data": {
            "text/plain": [
              "(tensor([[0.0000],\n",
              "         [0.0200],\n",
              "         [0.0400],\n",
              "         [0.0600],\n",
              "         [0.0800],\n",
              "         [0.1000],\n",
              "         [0.1200],\n",
              "         [0.1400],\n",
              "         [0.1600],\n",
              "         [0.1800]]),\n",
              " tensor([[0.3000],\n",
              "         [0.3140],\n",
              "         [0.3280],\n",
              "         [0.3420],\n",
              "         [0.3560],\n",
              "         [0.3700],\n",
              "         [0.3840],\n",
              "         [0.3980],\n",
              "         [0.4120],\n",
              "         [0.4260]]))"
            ]
          },
          "metadata": {},
          "execution_count": 3
        }
      ]
    },
    {
      "cell_type": "code",
      "source": [
        "# splitting the data into testing and training set\n",
        "\n",
        "train_split = int(0.8 * len(x)) # gets how much val of the list makes up 80% of it\n",
        "x_traing, y_train = x[:train_split], y[:train_split]\n",
        "x_test, y_test = x[train_split:], y[train_split:]\n",
        "len(x_test), len(y_test), len(x_traing), len(y_train)"
      ],
      "metadata": {
        "colab": {
          "base_uri": "https://localhost:8080/"
        },
        "id": "D4K_XY3p4Cmr",
        "outputId": "b7afc204-740e-49fa-ddc1-8d3bd750cb7d"
      },
      "execution_count": 4,
      "outputs": [
        {
          "output_type": "execute_result",
          "data": {
            "text/plain": [
              "(10, 10, 40, 40)"
            ]
          },
          "metadata": {},
          "execution_count": 4
        }
      ]
    },
    {
      "cell_type": "code",
      "source": [
        "# making use of matplotlin to visualize data\n",
        "def plot_predictions(train_data=x_traing,\n",
        "                     train_labels=y_train,\n",
        "                     test_data=x_test,\n",
        "                     test_labels=y_test,\n",
        "                     predictions=None):\n",
        "\n",
        "  \"\"\"\n",
        "    Plotsl training data, test data and compares predictions\n",
        "  \"\"\"\n",
        "  plt.figure(figsize=(10, 7))\n",
        "\n",
        "  # plot test and traning data\n",
        "  plt.scatter(train_data, train_labels, c=\"b\", s=4, label=\"Training data\")\n",
        "  plt.scatter(test_data, test_labels, c=\"g\", s=4, label=\"Testing data\")\n",
        "\n",
        "  if predictions is not None:\n",
        "    plt.scatter(test_data, predictions, c=\"r\", s=4, label=\"Predictions\")\n",
        "\n",
        "  plt.legend(prop={\"size\": 14})"
      ],
      "metadata": {
        "id": "bk0_Gdqo4zNO"
      },
      "execution_count": 5,
      "outputs": []
    },
    {
      "cell_type": "code",
      "source": [
        "plot_predictions()"
      ],
      "metadata": {
        "colab": {
          "base_uri": "https://localhost:8080/",
          "height": 599
        },
        "id": "Nt2ndmmN7dGy",
        "outputId": "36e316a9-ac24-4ef9-8005-9a712927f307"
      },
      "execution_count": 6,
      "outputs": [
        {
          "output_type": "display_data",
          "data": {
            "text/plain": [
              "<Figure size 1000x700 with 1 Axes>"
            ],
            "image/png": "[encoded data removed]"
          },
          "metadata": {}
        }
      ]
    },
    {
      "cell_type": "markdown",
      "source": [
        "IMPLEMENTATION:"
      ],
      "metadata": {
        "id": "AOZgTjoYJdo8"
      }
    },
    {
      "cell_type": "code",
      "source": [
        "class LinearRegressionModel(nn.Module):\n",
        "  def __init__(self):\n",
        "    super().__init__()\n",
        "\n",
        "    self.weights = nn.Parameter(torch.randn(1, # randoms weight\n",
        "                                            requires_grad=True, # we need the gradient for training\n",
        "                                            dtype=torch.float)) #  sets the fl to float32\n",
        "\n",
        "    self.bias = nn.Parameter(torch.randn(1, requires_grad=True, dtype=torch.float))\n",
        "\n",
        "  def forward(self, x: torch.Tensor) -> torch.Tensor:\n",
        "    return self.weights * x + self.bias"
      ],
      "metadata": {
        "id": "FR6VGxAQJcwf"
      },
      "execution_count": 7,
      "outputs": []
    },
    {
      "cell_type": "markdown",
      "source": [
        "torch.nn: contains building block of computation graphs\n",
        "\n",
        "torch.nn.pramater: stores the tensore which may be used wiht nn.module\n",
        "\n",
        "torch.nn.module: base class for all NN modules, need forward()\n",
        "\n",
        "torch.opetim: contains a variety of optimization algorithm, helps with computatin\n",
        "\n",
        "requires_grad = True -\n",
        "   > Means PyTorch will track the gradient of this specific parameter for use wiht torch.autograd and gradient descent"
      ],
      "metadata": {
        "id": "y9SSSM2tpzbi"
      }
    },
    {
      "cell_type": "code",
      "source": [
        "# set a manual seed of 42, since nn.Parameter are randomly initialized\n",
        "torch.manual_seed(20)\n",
        "\n",
        "# creates an instance of the model\n",
        "model_0 = LinearRegressionModel()\n",
        "\n",
        "# shows the parameters within the nn.Modules\n",
        "list(model_0.parameters())\n",
        "#list(model_0.bias), list(model_0.weights)"
      ],
      "metadata": {
        "colab": {
          "base_uri": "https://localhost:8080/"
        },
        "id": "UjucUoW8IaNl",
        "outputId": "a84bb95a-09ff-4934-f03f-25ef1ef0ac56"
      },
      "execution_count": 15,
      "outputs": [
        {
          "output_type": "execute_result",
          "data": {
            "text/plain": [
              "[Parameter containing:\n",
              " tensor([-1.2061], requires_grad=True),\n",
              " Parameter containing:\n",
              " tensor([0.0617], requires_grad=True)]"
            ]
          },
          "metadata": {},
          "execution_count": 15
        }
      ]
    },
    {
      "cell_type": "code",
      "source": [
        "model_0.state_dict()"
      ],
      "metadata": {
        "colab": {
          "base_uri": "https://localhost:8080/"
        },
        "id": "dFeQp6b1tJRE",
        "outputId": "a3ac88ad-e623-4395-ce4f-b2033791b0d0"
      },
      "execution_count": 16,
      "outputs": [
        {
          "output_type": "execute_result",
          "data": {
            "text/plain": [
              "OrderedDict([('weights', tensor([-1.2061])), ('bias', tensor([0.0617]))])"
            ]
          },
          "metadata": {},
          "execution_count": 16
        }
      ]
    },
    {
      "cell_type": "code",
      "source": [
        "with torch.inference_mode():\n",
        "  y_preds = model_0(x_test)"
      ],
      "metadata": {
        "id": "H6HJ98qWJAXg"
      },
      "execution_count": 17,
      "outputs": []
    },
    {
      "cell_type": "code",
      "source": [
        "# Check the predictions\n",
        "print(f\"Number of testing samples: {len(x_test)}\")\n",
        "print(f\"Number of predictions made: {len(y_preds)}\")\n",
        "print(f\"Predicted values:\\n{y_preds}\")"
      ],
      "metadata": {
        "colab": {
          "base_uri": "https://localhost:8080/"
        },
        "id": "XA4y14DjKC5O",
        "outputId": "d6117321-a99b-49d8-d8a8-1331daa9e1ff"
      },
      "execution_count": 19,
      "outputs": [
        {
          "output_type": "stream",
          "name": "stdout",
          "text": [
            "Number of testing samples: 10\n",
            "Number of predictions made: 10\n",
            "Predicted values:\n",
            "tensor([[-0.9032],\n",
            "        [-0.9273],\n",
            "        [-0.9514],\n",
            "        [-0.9756],\n",
            "        [-0.9997],\n",
            "        [-1.0238],\n",
            "        [-1.0479],\n",
            "        [-1.0720],\n",
            "        [-1.0962],\n",
            "        [-1.1203]])\n"
          ]
        }
      ]
    },
    {
      "cell_type": "code",
      "source": [
        "plot_predictions(predictions=y_preds)"
      ],
      "metadata": {
        "colab": {
          "base_uri": "https://localhost:8080/",
          "height": 597
        },
        "id": "4u66cstLKdHo",
        "outputId": "a14533c6-894b-40ed-f4c8-76a46c6e8e84"
      },
      "execution_count": 20,
      "outputs": [
        {
          "output_type": "display_data",
          "data": {
            "text/plain": [
              "<Figure size 1000x700 with 1 Axes>"
            ],
            "image/png": "[encoded data removed]"
          },
          "metadata": {}
        }
      ]
    },
    {
      "cell_type": "markdown",
      "source": [
        "Loss functions: Measure how close/wrong the models predictions are froim the truth labels\n",
        "\n",
        "\n",
        "Optimizer: Tell the mdoe how to update thits internal parameters to best lower the loss function\n",
        "\n",
        "\n",
        "lr: Learning rate we want the optimizer to update the paramaters at"
      ],
      "metadata": {
        "id": "PMClzL0_LVzK"
      }
    },
    {
      "cell_type": "code",
      "source": [
        "# Making a loss function and determining the best learning rate\n",
        "\n",
        "loss_fn = nn.L1Loss()       # MAE Loss\n",
        "\n",
        "optimizer = torch.optim.SGD(params=model_0.parameters(), # specifies that the model should optimize the paramters, can be changed to weight etc,,\n",
        "                            lr=0.01)                     # learning rate, *** manually changed to find the most optimum ***"
      ],
      "metadata": {
        "id": "Ll8eqOYALmUJ"
      },
      "execution_count": 22,
      "outputs": []
    },
    {
      "cell_type": "markdown",
      "source": [
        "PyTorch Song\n",
        ">\n",
        ">\n",
        "It's train time! do the forward pass, calculate the loss, optimizer zero grad,\n",
        "losssss backwards!\n",
        "Optimizer step step step\n",
        "Let's test now! with torch no grad: do the forward pass,\n",
        "alculate the loss,\n",
        "vatch it go down down down!"
      ],
      "metadata": {
        "id": "PRSh7qjbNlol"
      }
    },
    {
      "cell_type": "markdown",
      "source": [
        "Training Steps\n",
        "\n",
        "Forward Pass\n",
        ">\n",
        "Calculate the loss\n",
        ">\n",
        "Zero Guidients - set them to zero\n",
        ">\n",
        "Perfrom backpropagation\n",
        ">\n",
        "Gradient descent (update the optimizer)"
      ],
      "metadata": {
        "id": "NdKY5Uk7OBQF"
      }
    },
    {
      "cell_type": "code",
      "source": [],
      "metadata": {
        "id": "nKtG0QuLOeG4"
      },
      "execution_count": null,
      "outputs": []
    },
    {
      "cell_type": "code",
      "source": [],
      "metadata": {
        "id": "4bFc_TnQNKtv"
      },
      "execution_count": null,
      "outputs": []
    }
  ]
}