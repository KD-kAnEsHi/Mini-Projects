{
  "nbformat": 4,
  "nbformat_minor": 0,
  "metadata": {
    "colab": {
      "provenance": [],
      "authorship_tag": "ABX9TyNeNftGstJsTG5oQQvMncWb",
      "include_colab_link": true
    },
    "kernelspec": {
      "name": "python3",
      "display_name": "Python 3"
    },
    "language_info": {
      "name": "python"
    }
  },
  "cells": [
    {
      "cell_type": "markdown",
      "metadata": {
        "id": "view-in-github",
        "colab_type": "text"
      },
      "source": [
        "<a href=\"https://colab.research.google.com/github/KD-kAnEsHi/Mini-Projects/blob/main/PyTorch_Workflow_Chapter_2.ipynb\" target=\"_parent\"><img src=\"https://colab.research.google.com/assets/colab-badge.svg\" alt=\"Open In Colab\"/></a>"
      ]
    },
    {
      "cell_type": "code",
      "source": [
        "what_were_covering = {1: \"data (prepare and load)\",\n",
        "    2: \"build model\",\n",
        "    3: \"fitting the model to data (training)\",\n",
        "    4: \"making predictions and evaluating a model (inference)\",\n",
        "    5: \"saving and loading a model\",\n",
        "    6: \"putting it all together\"\n",
        "}"
      ],
      "metadata": {
        "id": "pxEIhttild0-"
      },
      "execution_count": 1,
      "outputs": []
    },
    {
      "cell_type": "code",
      "source": [
        "import torch\n",
        "from torch import nn # nn contains all of PyTorch's building blocks for neural networks\n",
        "import matplotlib.pyplot as plt\n",
        "\n",
        "# Check PyTorch version\n",
        "torch.__version__"
      ],
      "metadata": {
        "colab": {
          "base_uri": "https://localhost:8080/",
          "height": 35
        },
        "id": "f64jxrMNlkyG",
        "outputId": "f84d83de-a175-4608-aeed-37829ba4bc35"
      },
      "execution_count": 17,
      "outputs": [
        {
          "output_type": "execute_result",
          "data": {
            "text/plain": [
              "'2.6.0+cu124'"
            ],
            "application/vnd.google.colaboratory.intrinsic+json": {
              "type": "string"
            }
          },
          "metadata": {},
          "execution_count": 17
        }
      ]
    },
    {
      "cell_type": "markdown",
      "source": [],
      "metadata": {
        "id": "bjLpjP5KldbP"
      }
    },
    {
      "cell_type": "code",
      "source": [
        "# Generates data, we will make use of to run a regression and gradient model\n",
        "\n",
        "weight = 0.7\n",
        "bias = 0.3\n",
        "\n",
        "start = 0\n",
        "end = 1\n",
        "step = 0.02\n",
        "x = torch.arange(start, end, step).unsqueeze(1)\n",
        "y = weight * x + bias\n",
        "x[:10], y[:10]\n",
        "\n",
        "# x: features\n",
        "# y: w-weights, x-features, b-bias"
      ],
      "metadata": {
        "colab": {
          "base_uri": "https://localhost:8080/"
        },
        "id": "8xUtg34i22AV",
        "outputId": "2c21b15a-2272-452b-dc70-4d0861ce7ced"
      },
      "execution_count": 3,
      "outputs": [
        {
          "output_type": "execute_result",
          "data": {
            "text/plain": [
              "(tensor([[0.0000],\n",
              "         [0.0200],\n",
              "         [0.0400],\n",
              "         [0.0600],\n",
              "         [0.0800],\n",
              "         [0.1000],\n",
              "         [0.1200],\n",
              "         [0.1400],\n",
              "         [0.1600],\n",
              "         [0.1800]]),\n",
              " tensor([[0.3000],\n",
              "         [0.3140],\n",
              "         [0.3280],\n",
              "         [0.3420],\n",
              "         [0.3560],\n",
              "         [0.3700],\n",
              "         [0.3840],\n",
              "         [0.3980],\n",
              "         [0.4120],\n",
              "         [0.4260]]))"
            ]
          },
          "metadata": {},
          "execution_count": 3
        }
      ]
    },
    {
      "cell_type": "code",
      "source": [
        "# splitting the data into testing and training set\n",
        "\n",
        "train_split = int(0.8 * len(x)) # gets how much val of the list makes up 80% of it\n",
        "x_traing, y_train = x[:train_split], y[:train_split]\n",
        "x_test, y_test = x[train_split:], y[train_split:]\n",
        "len(x_test), len(y_test), len(x_traing), len(y_train)"
      ],
      "metadata": {
        "colab": {
          "base_uri": "https://localhost:8080/"
        },
        "id": "D4K_XY3p4Cmr",
        "outputId": "612fc18a-9ada-4feb-ef4a-bcbd50bba2fc"
      },
      "execution_count": 4,
      "outputs": [
        {
          "output_type": "execute_result",
          "data": {
            "text/plain": [
              "(10, 10, 40, 40)"
            ]
          },
          "metadata": {},
          "execution_count": 4
        }
      ]
    },
    {
      "cell_type": "code",
      "source": [
        "# making use of matplotlin to visualize data\n",
        "def plot_predictions(train_data=x_traing,\n",
        "                     train_labels=y_train,\n",
        "                     test_data=x_test,\n",
        "                     test_labels=y_test,\n",
        "                     predictions=None):\n",
        "\n",
        "  \"\"\"\n",
        "    Plotsl training data, test data and compares predictions\n",
        "  \"\"\"\n",
        "  plt.figure(figsize=(10, 7))\n",
        "\n",
        "  # plot test and traning data\n",
        "  plt.scatter(train_data, train_labels, c=\"b\", s=4, label=\"Training data\")\n",
        "  plt.scatter(test_data, test_labels, c=\"g\", s=4, label=\"Testing data\")\n",
        "\n",
        "  if predictions is not None:\n",
        "    plt.scatter(test_data, predictions, c=\"r\", s=4, label=\"Predictions\")\n",
        "\n",
        "  plt.legend(prop={\"size\": 14})"
      ],
      "metadata": {
        "id": "bk0_Gdqo4zNO"
      },
      "execution_count": 5,
      "outputs": []
    },
    {
      "cell_type": "code",
      "source": [
        "plot_predictions()"
      ],
      "metadata": {
        "colab": {
          "base_uri": "https://localhost:8080/",
          "height": 599
        },
        "id": "Nt2ndmmN7dGy",
        "outputId": "16ecce01-0009-4ec9-df46-4f383909135b"
      },
      "execution_count": 6,
      "outputs": [
        {
          "output_type": "display_data",
          "data": {
            "text/plain": [
              "<Figure size 1000x700 with 1 Axes>"
            ],
            "image/png": "[encoded data removed]"
          },
          "metadata": {}
        }
      ]
    },
    {
      "cell_type": "markdown",
      "source": [
        "IMPLEMENTATION:"
      ],
      "metadata": {
        "id": "AOZgTjoYJdo8"
      }
    },
    {
      "cell_type": "code",
      "source": [
        "class LinearRegressionModel(nn.Module):\n",
        "  def __init__(self):\n",
        "    super().__init__()\n",
        "\n",
        "    self.weights = nn.Parameter(torch.randn(1, # randoms weight\n",
        "                                            requires_grad=True, # we need the gradient for training\n",
        "                                            dtype=torch.float)) #  sets the fl to float32\n",
        "\n",
        "    self.bias = nn.Parameter(torch.randn(1, requires_grad=True, dtype=torch.float))\n",
        "\n",
        "  def forward(self, x: torch.Tensor) -> torch.Tensor:\n",
        "    return self.weights * x + self.bias"
      ],
      "metadata": {
        "id": "FR6VGxAQJcwf"
      },
      "execution_count": 7,
      "outputs": []
    },
    {
      "cell_type": "markdown",
      "source": [
        "torch.nn: contains building block of computation graphs\n",
        "\n",
        "torch.nn.pramater: stores the tensore which may be used wiht nn.module\n",
        "\n",
        "torch.nn.module: base class for all NN modules, need forward()\n",
        "\n",
        "torch.opetim: contains a variety of optimization algorithm, helps with computatin\n",
        "\n",
        "requires_grad = True -\n",
        "   > Means PyTorch will track the gradient of this specific parameter for use wiht torch.autograd and gradient descent"
      ],
      "metadata": {
        "id": "y9SSSM2tpzbi"
      }
    },
    {
      "cell_type": "code",
      "source": [
        "# set a manual seed of 42, since nn.Parameter are randomly initialized\n",
        "torch.manual_seed(20)\n",
        "\n",
        "# creates an instance of the model\n",
        "model_0 = LinearRegressionModel()\n",
        "\n",
        "# shows the parameters within the nn.Modules\n",
        "list(model_0.parameters())\n",
        "#list(model_0.bias), list(model_0.weights)"
      ],
      "metadata": {
        "colab": {
          "base_uri": "https://localhost:8080/"
        },
        "id": "UjucUoW8IaNl",
        "outputId": "ca2c6a6a-1b8d-4a27-a9dc-473f713dc85e"
      },
      "execution_count": 9,
      "outputs": [
        {
          "output_type": "execute_result",
          "data": {
            "text/plain": [
              "[Parameter containing:\n",
              " tensor([-1.2061], requires_grad=True),\n",
              " Parameter containing:\n",
              " tensor([0.0617], requires_grad=True)]"
            ]
          },
          "metadata": {},
          "execution_count": 9
        }
      ]
    },
    {
      "cell_type": "code",
      "source": [
        "model_0.state_dict()"
      ],
      "metadata": {
        "colab": {
          "base_uri": "https://localhost:8080/"
        },
        "id": "dFeQp6b1tJRE",
        "outputId": "a3ac88ad-e623-4395-ce4f-b2033791b0d0"
      },
      "execution_count": 16,
      "outputs": [
        {
          "output_type": "execute_result",
          "data": {
            "text/plain": [
              "OrderedDict([('weights', tensor([-1.2061])), ('bias', tensor([0.0617]))])"
            ]
          },
          "metadata": {},
          "execution_count": 16
        }
      ]
    },
    {
      "cell_type": "code",
      "source": [
        "with torch.inference_mode():\n",
        "  y_preds = model_0(x_test)"
      ],
      "metadata": {
        "id": "H6HJ98qWJAXg"
      },
      "execution_count": 10,
      "outputs": []
    },
    {
      "cell_type": "code",
      "source": [
        "# Check the predictions\n",
        "print(f\"Number of testing samples: {len(x_test)}\")\n",
        "print(f\"Number of predictions made: {len(y_preds)}\")\n",
        "print(f\"Predicted values:\\n{y_preds}\")"
      ],
      "metadata": {
        "colab": {
          "base_uri": "https://localhost:8080/"
        },
        "id": "XA4y14DjKC5O",
        "outputId": "6cc0ba4c-14bd-4098-d862-efc8a59e9293"
      },
      "execution_count": 11,
      "outputs": [
        {
          "output_type": "stream",
          "name": "stdout",
          "text": [
            "Number of testing samples: 10\n",
            "Number of predictions made: 10\n",
            "Predicted values:\n",
            "tensor([[-0.9032],\n",
            "        [-0.9273],\n",
            "        [-0.9514],\n",
            "        [-0.9756],\n",
            "        [-0.9997],\n",
            "        [-1.0238],\n",
            "        [-1.0479],\n",
            "        [-1.0720],\n",
            "        [-1.0962],\n",
            "        [-1.1203]])\n"
          ]
        }
      ]
    },
    {
      "cell_type": "code",
      "source": [
        "plot_predictions(predictions=y_preds)"
      ],
      "metadata": {
        "colab": {
          "base_uri": "https://localhost:8080/",
          "height": 599
        },
        "id": "4u66cstLKdHo",
        "outputId": "7a8000d5-8dd5-44d3-8c18-6e4aeaf4e062"
      },
      "execution_count": 12,
      "outputs": [
        {
          "output_type": "display_data",
          "data": {
            "text/plain": [
              "<Figure size 1000x700 with 1 Axes>"
            ],
            "image/png": "[encoded data removed]"
          },
          "metadata": {}
        }
      ]
    },
    {
      "cell_type": "markdown",
      "source": [
        "Loss functions: Measure how close/wrong the models predictions are froim the truth labels\n",
        "\n",
        "\n",
        "Optimizer: Tell the mdoe how to update thits internal parameters to best lower the loss function\n",
        "\n",
        "\n",
        "lr: Learning rate we want the optimizer to update the paramaters at"
      ],
      "metadata": {
        "id": "PMClzL0_LVzK"
      }
    },
    {
      "cell_type": "code",
      "source": [
        "# Making a loss function and determining the best learning rate\n",
        "\n",
        "loss_fn = nn.L1Loss()       # MAE Loss\n",
        "\n",
        "optimizer = torch.optim.SGD(params=model_0.parameters(), # specifies that the model should optimize the paramters, can be changed to weight etc,,\n",
        "                            lr=0.01)                     # learning rate, *** manually changed to find the most optimum ***"
      ],
      "metadata": {
        "id": "Ll8eqOYALmUJ"
      },
      "execution_count": 13,
      "outputs": []
    },
    {
      "cell_type": "markdown",
      "source": [
        "PyTorch Song\n",
        ">\n",
        ">\n",
        "It's train time! do the forward pass, calculate the loss, optimizer zero grad,\n",
        "losssss backwards!\n",
        "Optimizer step step step\n",
        "Let's test now! with torch no grad: do the forward pass,\n",
        "alculate the loss,\n",
        "vatch it go down down down!"
      ],
      "metadata": {
        "id": "PRSh7qjbNlol"
      }
    },
    {
      "cell_type": "markdown",
      "source": [
        "Training Steps\n",
        "\n",
        "Forward Pass\n",
        ">\n",
        "Calculate the loss\n",
        ">\n",
        "Zero Guidients - set them to zero\n",
        ">\n",
        "Perfrom backpropagation\n",
        ">\n",
        "Gradient descent (update the optimizer)"
      ],
      "metadata": {
        "id": "NdKY5Uk7OBQF"
      }
    },
    {
      "cell_type": "code",
      "source": [
        "# training loop example\n",
        "for epoch in range(epochs):         # Iterate through the epochs (set by user)\n",
        "\n",
        "  model_0.train()                   # put the model in training mode (sound cool lol)\n",
        "  y_pred = model_0(x_traing)        # forward pass (call the forward pass method and goes through the created architecture)\n",
        "  loss = loss_fn(y_pred, y_test)    # calculate the loss function by comparing predicted values with the test values\n",
        "\n",
        "  optimizer.zero_grad()             # set tehh gradient to 0, before backpropagation.\n",
        "  loss.backward()                   # backpropagation (Compute the gradient with of every paragramter)\n",
        "  optimizer.step()                  # gradient descent (update the model paramter with better ones, based off of new_gradient ,ade after making adjustments)\n",
        "\n",
        "\n",
        "\n",
        "\n",
        "\n",
        "\n",
        "\n",
        "# testing loop example\n",
        "epoch_count = []\n",
        "train_loss = []\n",
        "test_loss = []\n",
        "\n",
        "for epoch in range(epochs):\n",
        "\n",
        "  model_0.train()                     # put the model in evaluation mode (sound cool lol)\n",
        "\n",
        "  with torch.inference_mode():       # torn ON 'torch.inference_mode()' context manager to disable stuff like gradient tracking\n",
        "\n",
        "    test_pred = model_0(x_test)       #\n",
        "    test_loss = loss_fn(test_pred, y_test)\n",
        "\n",
        "  optimizer.zero_grad()\n",
        "  loss.backward()\n",
        "  optimizer.step()\n",
        "\n",
        "\n"
      ],
      "metadata": {
        "id": "nKtG0QuLOeG4"
      },
      "execution_count": null,
      "outputs": []
    },
    {
      "cell_type": "code",
      "source": [
        "torch.manual_seed(42)\n",
        "\n",
        "\n",
        "epochs = 100                     # how many loops the program will go through\n",
        "\n",
        "# empy loss list to track each valuee, train and test\n",
        "train_loss_val = []\n",
        "test_loss_val = []\n",
        "epoch_count = []                 # use to track loss to a speficic epoch\n",
        "\n",
        "for epoch in range(epochs):\n",
        "\n",
        "  # Now lets train the model\n",
        "\n",
        "  model_0.train()                 # Put the model in training mode\n",
        "\n",
        "  y_pred = model_0(x_traing)      # forward pass on training using forward() method inside the model class\n",
        "  #print(y_pred)\n",
        "\n",
        "  loss = loss_fn(y_pred, y_train) # Calculate the loss (difference between the prediciton and ground truth)\n",
        "  optimizer.zero_grad()           # Set the optimizer to zero, before back-propagation\n",
        "\n",
        "  loss.backward()\n",
        "  optimizer.step()\n",
        "\n",
        "  model_0.eval()                  # Put the model in evaluation mode\n",
        "\n",
        "  with torch.inference_mode():    # perform predictions on test data ( check wether model is getting better or worse)\n",
        "    test_pred = model_0(x_test)\n",
        "    test_loss = loss_fn(test_pred, y_test)\n",
        "\n",
        "    if epoch % 10 == 0:\n",
        "      epoch_count.append(epoch)\n",
        "      train_loss_val.append(loss.detach().numpy())\n",
        "      test_loss_val.append(test_loss.detach().numpy())\n",
        "      print(f\"Epoch: {epoch} | MAE Train Loss: {loss} | MAE Test Loss: {test_loss}\")\n"
      ],
      "metadata": {
        "colab": {
          "base_uri": "https://localhost:8080/"
        },
        "id": "4bFc_TnQNKtv",
        "outputId": "bb1a44a7-8ef9-4fe0-fbc6-3172bad4498d"
      },
      "execution_count": 21,
      "outputs": [
        {
          "output_type": "stream",
          "name": "stdout",
          "text": [
            "Epoch: 0 | MAE Train Loss: 0.22814814746379852 | MAE Test Loss: 0.5330759286880493\n",
            "Epoch: 10 | MAE Train Loss: 0.22470512986183167 | MAE Test Loss: 0.5248035788536072\n",
            "Epoch: 20 | MAE Train Loss: 0.22127051651477814 | MAE Test Loss: 0.5165311694145203\n",
            "Epoch: 30 | MAE Train Loss: 0.21783173084259033 | MAE Test Loss: 0.5082588791847229\n",
            "Epoch: 40 | MAE Train Loss: 0.21440310776233673 | MAE Test Loss: 0.5006732940673828\n",
            "Epoch: 50 | MAE Train Loss: 0.21096685528755188 | MAE Test Loss: 0.49240097403526306\n",
            "Epoch: 60 | MAE Train Loss: 0.20752958953380585 | MAE Test Loss: 0.48481544852256775\n",
            "Epoch: 70 | MAE Train Loss: 0.20410113036632538 | MAE Test Loss: 0.476543128490448\n",
            "Epoch: 80 | MAE Train Loss: 0.2006632387638092 | MAE Test Loss: 0.46827077865600586\n",
            "Epoch: 90 | MAE Train Loss: 0.1972276270389557 | MAE Test Loss: 0.46068525314331055\n"
          ]
        }
      ]
    },
    {
      "cell_type": "code",
      "source": [
        "# Plot the loss curves\n",
        "plt.plot(epoch_count, train_loss_val, label=\"Train loss\")\n",
        "plt.plot(epoch_count, test_loss_val, label=\"Test loss\")\n",
        "plt.title(\"Training and test loss curves\")\n",
        "plt.ylabel(\"Loss\")\n",
        "plt.xlabel(\"Epochs\")\n",
        "plt.legend();"
      ],
      "metadata": {
        "colab": {
          "base_uri": "https://localhost:8080/",
          "height": 472
        },
        "id": "n7OqlNjt2D1h",
        "outputId": "68383c27-feac-4782-c924-e63501b0052f"
      },
      "execution_count": 22,
      "outputs": [
        {
          "output_type": "display_data",
          "data": {
            "text/plain": [
              "<Figure size 640x480 with 1 Axes>"
            ],
            "image/png": "[encoded data removed]"
          },
          "metadata": {}
        }
      ]
    },
    {
      "cell_type": "code",
      "source": [
        "# Find our model's learned parameters\n",
        "print(\"The model learned the following values for weights and bias:\")\n",
        "print(model_0.state_dict())\n",
        "print(\"\\nAnd the original values for weights and bias are:\")\n",
        "print(f\"weights: {weight}, bias: {bias}\")"
      ],
      "metadata": {
        "colab": {
          "base_uri": "https://localhost:8080/"
        },
        "id": "0JfqUyQJ2sjS",
        "outputId": "9e7468f6-c5df-4132-ad9a-121ebbd9126c"
      },
      "execution_count": 23,
      "outputs": [
        {
          "output_type": "stream",
          "name": "stdout",
          "text": [
            "The model learned the following values for weights and bias:\n",
            "OrderedDict([('weights', tensor([-0.2643])), ('bias', tensor([0.7047]))])\n",
            "\n",
            "And the original values for weights and bias are:\n",
            "weights: 0.7, bias: 0.3\n"
          ]
        }
      ]
    },
    {
      "cell_type": "code",
      "source": [
        "# 1. Set the model in evaluation mode\n",
        "model_0.eval()\n",
        "\n",
        "# 2. Setup the inference mode context manager\n",
        "with torch.inference_mode():\n",
        "  # 3. Make sure the calculations are done with the model and data on the same device\n",
        "  # in our case, we haven't setup device-agnostic code yet so our data and model are\n",
        "  # on the CPU by default.\n",
        "  # model_0.to(device)\n",
        "  # X_test = X_test.to(device)\n",
        "  y_pre = model_0(x_test)\n",
        "y_pre"
      ],
      "metadata": {
        "colab": {
          "base_uri": "https://localhost:8080/"
        },
        "id": "0XcWztXa3u-A",
        "outputId": "c89893c0-9360-4825-bb7e-204040c9a327"
      },
      "execution_count": 29,
      "outputs": [
        {
          "output_type": "execute_result",
          "data": {
            "text/plain": [
              "tensor([[0.4933],\n",
              "        [0.4880],\n",
              "        [0.4827],\n",
              "        [0.4774],\n",
              "        [0.4721],\n",
              "        [0.4668],\n",
              "        [0.4616],\n",
              "        [0.4563],\n",
              "        [0.4510],\n",
              "        [0.4457]])"
            ]
          },
          "metadata": {},
          "execution_count": 29
        }
      ]
    },
    {
      "cell_type": "code",
      "source": [
        "\n",
        "plot_predictions(predictions=y_pre)"
      ],
      "metadata": {
        "colab": {
          "base_uri": "https://localhost:8080/",
          "height": 599
        },
        "id": "3rZopegi30km",
        "outputId": "aa7301b7-0617-4b4c-d905-305bb63374eb"
      },
      "execution_count": 30,
      "outputs": [
        {
          "output_type": "display_data",
          "data": {
            "text/plain": [
              "<Figure size 1000x700 with 1 Axes>"
            ],
            "image/png": "[encoded data removed]"
          },
          "metadata": {}
        }
      ]
    },
    {
      "cell_type": "code",
      "source": [
        "from pathlib import Path\n",
        "# saving the models in a file\n",
        "\n",
        "# creat a dir names models\n",
        "MODEL_PATH = Path(\"models\")\n",
        "MODEL_PATH.mkdir(parents=True, exist_ok=True)\n",
        "\n",
        "# creat a file in which the docs will be saved in\n",
        "MODEL_NAME = \"01_pytorch_workflow.pth\"\n",
        "MODEL_SAVE_PATH = MODEL_PATH / MODEL_NAME\n",
        "\n",
        "\n",
        "# Save the model stat_dict\n",
        "print(f\"Saving model to: {MODEL_SAVE_PATH}\")\n",
        "torch.save(obj=model_0.state_dict(),                # Gets the trained weights using state_dict\n",
        "           f=MODEL_SAVE_PATH)                       # Stores the created weights inside of the .pth file, F - file path"
      ],
      "metadata": {
        "colab": {
          "base_uri": "https://localhost:8080/"
        },
        "id": "Ze72T4Ow30bG",
        "outputId": "7b45c7ae-c00c-4030-a2f4-fc291c2dc9ba"
      },
      "execution_count": 34,
      "outputs": [
        {
          "output_type": "stream",
          "name": "stdout",
          "text": [
            "Saving model to: models/01_pytorch_workflow.pth\n"
          ]
        }
      ]
    },
    {
      "cell_type": "code",
      "source": [
        "# Loading stored weight, saved in a file\n",
        "\n",
        "# In order get the stored weight we need to creat a new instance of model (with random weights and update them)\n",
        "loaded_model_0 = LinearRegressionModel()\n",
        "\n",
        "# load the state_dict of the saved model, get the saved weight and update the weights of the current model\n",
        "loaded_model_0.load_state_dict(torch.load(f=MODEL_SAVE_PATH))"
      ],
      "metadata": {
        "colab": {
          "base_uri": "https://localhost:8080/"
        },
        "id": "78VWPw6_6M7p",
        "outputId": "7583c6ff-c486-4d3a-9bf4-37a94e492609"
      },
      "execution_count": 35,
      "outputs": [
        {
          "output_type": "execute_result",
          "data": {
            "text/plain": [
              "<All keys matched successfully>"
            ]
          },
          "metadata": {},
          "execution_count": 35
        }
      ]
    },
    {
      "cell_type": "code",
      "source": [
        "# Inference: evaluating the model and makingprediction on test data haah\n",
        "\n",
        "loaded_model_0.eval()\n",
        "\n",
        "with torch.inference_mode():\n",
        "  loaded_model_0_pred = loaded_model_0(x_test)  # call the forward pass on the test data with loaded model"
      ],
      "metadata": {
        "id": "Pytwp5b870vh"
      },
      "execution_count": 36,
      "outputs": []
    },
    {
      "cell_type": "code",
      "source": [
        "# compared prediciton from stored weight to the weight before it was stored\n",
        "y_pre == loaded_model_0_pred"
      ],
      "metadata": {
        "colab": {
          "base_uri": "https://localhost:8080/"
        },
        "id": "rdPtjRnK9BFx",
        "outputId": "b906158d-ab14-4f76-c496-a38005f04919"
      },
      "execution_count": 37,
      "outputs": [
        {
          "output_type": "execute_result",
          "data": {
            "text/plain": [
              "tensor([[True],\n",
              "        [True],\n",
              "        [True],\n",
              "        [True],\n",
              "        [True],\n",
              "        [True],\n",
              "        [True],\n",
              "        [True],\n",
              "        [True],\n",
              "        [True]])"
            ]
          },
          "metadata": {},
          "execution_count": 37
        }
      ]
    },
    {
      "cell_type": "markdown",
      "source": [
        "Exercise:\n",
        "\n",
        "All exercises have been inspired from code throughout the notebook.\n",
        ">\n",
        "There is one exercise per major section.\n",
        ">\n",
        "You should be able to complete them by referencing their specific section.\n",
        ">\n",
        "> Note: For all exercises, your code should be device agnostic (meaning it could run on CPU or GPU if it's available).\n",
        ">\n",
        "Create a straight line dataset using the linear regression formula (weight * X + bias).\n",
        "Set weight=0.3 and bias=0.9 there should be at least 100 datapoints total.\n",
        "Split the data into 80% training, 20% testing.\n",
        "Plot the training and testing data so it becomes visual.\n",
        ">\n",
        "Build a PyTorch model by subclassing nn.Module.\n",
        "Inside should be a randomly initialized nn.Parameter() with requires_grad=True, one for weights and one for bias.\n",
        "Implement the forward() method to compute the linear regression function you used to create the dataset in 1.\n",
        ">\n",
        "Once you've constructed the model, make an instance of it and check its state_dict().\n",
        "Note: If you'd like to use nn.Linear() instead of nn.Parameter() you can.\n",
        "Create a loss function and optimizer using nn.L1Loss() and torch.optim.SGD(params, lr) respectively.\n",
        ">\n",
        "Set the learning rate of the optimizer to be 0.01 and the parameters to optimize should be the model parameters from the model you created in 2.\n",
        ">\n",
        "Write a training loop to perform the appropriate training steps for 300 epochs.\n",
        "The training loop should test the model on the test dataset every 20 epochs.\n",
        ">\n",
        "Make predictions with the trained model on the test data.\n",
        ">\n",
        "Visualize these predictions against the original training and testing data (note: you may need to make sure the predictions are not on the GPU if you want to use non-CUDA-enabled libraries such as matplotlib to plot).\n",
        ">\n",
        "Save your trained model's state_dict() to file.\n",
        "Create a new instance of your model class you made in  and load in the state_dict() you just saved to it.\n",
        ">\n",
        "Perform predictions on your test data with the loaded model and confirm they match the original model predictions from\n",
        "\n"
      ],
      "metadata": {
        "id": "sEzMZyaHCf1U"
      }
    },
    {
      "cell_type": "code",
      "source": [
        "# creat a dataset:\n",
        "weight = 0.3\n",
        "bias = 0.9\n",
        "\n",
        "start = 0\n",
        "end = 50\n",
        "step = 0.2\n",
        "\n",
        "torch.manual_seed(42)\n",
        "x = torch.arange(start, end, step).unsqueeze(1)\n",
        "y = weight * x + bias"
      ],
      "metadata": {
        "id": "mxLY0ZXUCqDm"
      },
      "execution_count": 38,
      "outputs": []
    },
    {
      "cell_type": "code",
      "source": [
        "train_split = int(0.8 * len(y))\n",
        "x_train, y_train = x[:train_split], y[:train_split]\n",
        "x_test, y_test = x[train_split:], y[train_split:]"
      ],
      "metadata": {
        "id": "DomONrRQD7Xi"
      },
      "execution_count": 41,
      "outputs": []
    },
    {
      "cell_type": "code",
      "source": [
        "def plot_graph(x_test=x_test, y_test=y_test, x_train=x_train, y_train=y_train, y_pred=None):\n",
        "  plt.figure(figsize=(10, 7))\n",
        "  plt.scatter(x_train, y_train, c=\"b\", s=4, label=\"Training data\")\n",
        "  plt.scatter(x_test, y_test, c=\"g\", s=4, label=\"Testing data\")\n",
        "  if y_pred is not None:\n",
        "    plt.scatter(x_test, y_pred)"
      ],
      "metadata": {
        "id": "UZcUQHiFEVwH"
      },
      "execution_count": 43,
      "outputs": []
    },
    {
      "cell_type": "code",
      "source": [
        "plot_graph()"
      ],
      "metadata": {
        "colab": {
          "base_uri": "https://localhost:8080/",
          "height": 599
        },
        "id": "oWiT-RfDFTu9",
        "outputId": "00486243-c2bf-41c6-8390-46fa90c078bf"
      },
      "execution_count": 44,
      "outputs": [
        {
          "output_type": "display_data",
          "data": {
            "text/plain": [
              "<Figure size 1000x700 with 1 Axes>"
            ],
            "image/png": "[encoded data removed]"
          },
          "metadata": {}
        }
      ]
    },
    {
      "cell_type": "code",
      "source": [
        "class BaseModel(nn.Module):\n",
        "  def __init__(self):\n",
        "    super().__init__()\n",
        "    self.weight = nn.Parameter(torch.rand(1, requires_grad=True, dtype=torch.float))\n",
        "    self.bias = nn.Parameter(torch.rand(1, requires_grad=True, dtype=torch.float))\n",
        "\n",
        "  def forward(self, x):\n",
        "    return self.weight * x + self.bias"
      ],
      "metadata": {
        "id": "oCC7Gc6kFrVY"
      },
      "execution_count": 53,
      "outputs": []
    },
    {
      "cell_type": "code",
      "source": [
        "new_model = BaseModel()\n",
        "new_model.state_dict()"
      ],
      "metadata": {
        "colab": {
          "base_uri": "https://localhost:8080/"
        },
        "id": "x_Ocx3suGivc",
        "outputId": "45a415b6-c922-40bd-a6ca-fa1715e9ee28"
      },
      "execution_count": 54,
      "outputs": [
        {
          "output_type": "execute_result",
          "data": {
            "text/plain": [
              "OrderedDict([('weight', tensor([0.8823])), ('bias', tensor([0.9150]))])"
            ]
          },
          "metadata": {},
          "execution_count": 54
        }
      ]
    },
    {
      "cell_type": "code",
      "source": [
        "loss = nn.L1Loss()\n",
        "optimizer = torch.optim.SGD(params=new_model.parameters(), lr=0.05)"
      ],
      "metadata": {
        "id": "N_H3NfU1I0qa"
      },
      "execution_count": 55,
      "outputs": []
    },
    {
      "cell_type": "code",
      "source": [
        "epoch = 300\n",
        "\n",
        "loss_test = []\n",
        "loss_train = []\n",
        "epoch_history = []\n",
        "\n",
        "for epok in range(epoch):\n",
        "\n",
        "  new_model.train()               # Sets the model to training mode\n",
        "  y_pred = new_model(x_train)     # make predictison on x-train\n",
        "\n",
        "  new_loss = loss_fn(y_pred, y_train)\n",
        "  optimizer.zero_grad()           # sets the weighs to 0, before doing backward propagation\n",
        "  new_loss.backward()             # back-propagation\n",
        "  optimizer.step()                # change the gradients based off of the ppredicted resuls\n",
        "\n",
        "  new_model.eval()                # set the model to evaluation mode\n",
        "  with torch.inference_mode():\n",
        "    y_pred = new_model(x_train)\n",
        "    test_loss = loss_fn(y_test, y_test)\n",
        "\n",
        "    if epok % 20 == 0:\n",
        "      epoch_history.append(epok)\n",
        "      print(f\"training loss for {epok} - {loss_train.append(new_loss.detach().numpy())}\")\n",
        "      print(f\"test loss for {epok} - {loss_test.append(test_loss.detach().numpy())}\")"
      ],
      "metadata": {
        "colab": {
          "base_uri": "https://localhost:8080/"
        },
        "id": "NEEUFI6EJOuK",
        "outputId": "62afc66e-e99f-4771-d615-ceded7e9abce"
      },
      "execution_count": 60,
      "outputs": [
        {
          "output_type": "stream",
          "name": "stdout",
          "text": [
            "training loss for 0 - None\n",
            "test loss for 0 - None\n",
            "training loss for 20 - None\n",
            "test loss for 20 - None\n",
            "training loss for 40 - None\n",
            "test loss for 40 - None\n",
            "training loss for 60 - None\n",
            "test loss for 60 - None\n",
            "training loss for 80 - None\n",
            "test loss for 80 - None\n",
            "training loss for 100 - None\n",
            "test loss for 100 - None\n",
            "training loss for 120 - None\n",
            "test loss for 120 - None\n",
            "training loss for 140 - None\n",
            "test loss for 140 - None\n",
            "training loss for 160 - None\n",
            "test loss for 160 - None\n",
            "training loss for 180 - None\n",
            "test loss for 180 - None\n",
            "training loss for 200 - None\n",
            "test loss for 200 - None\n",
            "training loss for 220 - None\n",
            "test loss for 220 - None\n",
            "training loss for 240 - None\n",
            "test loss for 240 - None\n",
            "training loss for 260 - None\n",
            "test loss for 260 - None\n",
            "training loss for 280 - None\n",
            "test loss for 280 - None\n"
          ]
        }
      ]
    },
    {
      "cell_type": "code",
      "source": [
        "# Find our model's learned parameters\n",
        "print(\"The model learned the following values for weights and bias:\")\n",
        "print(new_model.state_dict())\n",
        "print(\"\\nAnd the original values for weights and bias are:\")\n",
        "print(f\"weights: {weight}, bias: {bias}\")"
      ],
      "metadata": {
        "colab": {
          "base_uri": "https://localhost:8080/"
        },
        "id": "KkULethXMJ9A",
        "outputId": "0e8ca3aa-ec32-4ea9-e96f-86ff24793a96"
      },
      "execution_count": 62,
      "outputs": [
        {
          "output_type": "stream",
          "name": "stdout",
          "text": [
            "The model learned the following values for weights and bias:\n",
            "OrderedDict([('weight', tensor([0.8823])), ('bias', tensor([0.9150]))])\n",
            "\n",
            "And the original values for weights and bias are:\n",
            "weights: 0.3, bias: 0.9\n"
          ]
        }
      ]
    }
  ]
}